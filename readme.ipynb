{
 "cells": [
  {
   "cell_type": "markdown",
   "metadata": {},
   "source": [
    "# FDM-Stochastic-Burgers-MATLAB\n",
    "\n",
    "This repository contain the code for Finite difference solution of the Stochastic Burger's equation.\n",
    "We start with solving the heat equation and then add the approximation for the non-linear term.\n",
    "\n",
    "The finite differences have been approximated using Crank-nicolson method. Initial conditions taken are -\n",
    "\n",
    "For $\\alpha = 0.01$\\\\,\n",
    "$x_i =0, x_f =1$, $t_i = 0 , t_f = 1$,\\\\\n",
    "Initial condition = $u(x,0) = u(x) = sin(2 \\times pi \\times x )$,\\\\\n",
    "Boundary conditions = $u(x_i ,t) = u(x_f ,t) = 0.$\n",
    "\n",
    "## Simulation Results\n",
    "\n",
    "The function has been simulated at various noise levels. \n",
    "\n",
    "![without noise](/image/SBE_without_noise.png)\n",
    "\n",
    "![with noise](/image/SBE_1_2.png)\n",
    "\n",
    "## For more information\n",
    "\n",
    "Please visit this [page](www.google.com)"
   ]
  }
 ],
 "metadata": {
  "kernelspec": {
   "display_name": "Python [Root]",
   "language": "python",
   "name": "Python [Root]"
  },
  "language_info": {
   "codemirror_mode": {
    "name": "ipython",
    "version": 2
   },
   "file_extension": ".py",
   "mimetype": "text/x-python",
   "name": "python",
   "nbconvert_exporter": "python",
   "pygments_lexer": "ipython2",
   "version": "2.7.12"
  }
 },
 "nbformat": 4,
 "nbformat_minor": 0
}
